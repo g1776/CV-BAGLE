{
 "cells": [
  {
   "cell_type": "code",
   "execution_count": 11,
   "metadata": {},
   "outputs": [],
   "source": [
    "import pandas as pd\n",
    "from sklearn.model_selection import train_test_split\n",
    "from sklearn.ensemble import RandomForestClassifier"
   ]
  },
  {
   "cell_type": "code",
   "execution_count": 20,
   "metadata": {},
   "outputs": [
    {
     "data": {
      "text/html": [
       "<div>\n",
       "<style scoped>\n",
       "    .dataframe tbody tr th:only-of-type {\n",
       "        vertical-align: middle;\n",
       "    }\n",
       "\n",
       "    .dataframe tbody tr th {\n",
       "        vertical-align: top;\n",
       "    }\n",
       "\n",
       "    .dataframe thead th {\n",
       "        text-align: right;\n",
       "    }\n",
       "</style>\n",
       "<table border=\"1\" class=\"dataframe\">\n",
       "  <thead>\n",
       "    <tr style=\"text-align: right;\">\n",
       "      <th></th>\n",
       "      <th>chart_type</th>\n",
       "      <th>has_num_labels</th>\n",
       "      <th>num_labels_x_mean</th>\n",
       "      <th>num_labels_y_mean</th>\n",
       "      <th>num_labels_x_std</th>\n",
       "      <th>num_labels_y_std</th>\n",
       "      <th>sizes_mean</th>\n",
       "      <th>sizes_std</th>\n",
       "      <th>std_center_x</th>\n",
       "      <th>std_centers_y</th>\n",
       "      <th>num_sides_mean</th>\n",
       "      <th>num_sides_std</th>\n",
       "      <th>aspect_ratios_mean</th>\n",
       "      <th>aspect_ratios_std</th>\n",
       "      <th>num_glyphs</th>\n",
       "      <th>chart_fp</th>\n",
       "    </tr>\n",
       "  </thead>\n",
       "  <tbody>\n",
       "    <tr>\n",
       "      <th>0</th>\n",
       "      <td>fit-regression-plot</td>\n",
       "      <td>True</td>\n",
       "      <td>653.0</td>\n",
       "      <td>990.0</td>\n",
       "      <td>0.0</td>\n",
       "      <td>0.0</td>\n",
       "      <td>0.0</td>\n",
       "      <td>0.0</td>\n",
       "      <td>0.0</td>\n",
       "      <td>0.0</td>\n",
       "      <td>0.0</td>\n",
       "      <td>0.0</td>\n",
       "      <td>0.0</td>\n",
       "      <td>0.0</td>\n",
       "      <td>0</td>\n",
       "      <td>C:\\Users\\grego\\Documents\\GitHub\\DataVizCaption...</td>\n",
       "    </tr>\n",
       "    <tr>\n",
       "      <th>1</th>\n",
       "      <td>fit-regression-plot</td>\n",
       "      <td>False</td>\n",
       "      <td>0.0</td>\n",
       "      <td>0.0</td>\n",
       "      <td>0.0</td>\n",
       "      <td>0.0</td>\n",
       "      <td>0.0</td>\n",
       "      <td>0.0</td>\n",
       "      <td>0.0</td>\n",
       "      <td>0.0</td>\n",
       "      <td>0.0</td>\n",
       "      <td>0.0</td>\n",
       "      <td>0.0</td>\n",
       "      <td>0.0</td>\n",
       "      <td>0</td>\n",
       "      <td>C:\\Users\\grego\\Documents\\GitHub\\DataVizCaption...</td>\n",
       "    </tr>\n",
       "    <tr>\n",
       "      <th>2</th>\n",
       "      <td>fit-regression-plot</td>\n",
       "      <td>False</td>\n",
       "      <td>0.0</td>\n",
       "      <td>0.0</td>\n",
       "      <td>0.0</td>\n",
       "      <td>0.0</td>\n",
       "      <td>0.0</td>\n",
       "      <td>0.0</td>\n",
       "      <td>0.0</td>\n",
       "      <td>0.0</td>\n",
       "      <td>0.0</td>\n",
       "      <td>0.0</td>\n",
       "      <td>0.0</td>\n",
       "      <td>0.0</td>\n",
       "      <td>0</td>\n",
       "      <td>C:\\Users\\grego\\Documents\\GitHub\\DataVizCaption...</td>\n",
       "    </tr>\n",
       "    <tr>\n",
       "      <th>3</th>\n",
       "      <td>fit-regression-plot</td>\n",
       "      <td>False</td>\n",
       "      <td>0.0</td>\n",
       "      <td>0.0</td>\n",
       "      <td>0.0</td>\n",
       "      <td>0.0</td>\n",
       "      <td>0.0</td>\n",
       "      <td>0.0</td>\n",
       "      <td>0.0</td>\n",
       "      <td>0.0</td>\n",
       "      <td>0.0</td>\n",
       "      <td>0.0</td>\n",
       "      <td>0.0</td>\n",
       "      <td>0.0</td>\n",
       "      <td>0</td>\n",
       "      <td>C:\\Users\\grego\\Documents\\GitHub\\DataVizCaption...</td>\n",
       "    </tr>\n",
       "    <tr>\n",
       "      <th>4</th>\n",
       "      <td>fit-regression-plot</td>\n",
       "      <td>False</td>\n",
       "      <td>0.0</td>\n",
       "      <td>0.0</td>\n",
       "      <td>0.0</td>\n",
       "      <td>0.0</td>\n",
       "      <td>0.0</td>\n",
       "      <td>0.0</td>\n",
       "      <td>0.0</td>\n",
       "      <td>0.0</td>\n",
       "      <td>0.0</td>\n",
       "      <td>0.0</td>\n",
       "      <td>0.0</td>\n",
       "      <td>0.0</td>\n",
       "      <td>0</td>\n",
       "      <td>C:\\Users\\grego\\Documents\\GitHub\\DataVizCaption...</td>\n",
       "    </tr>\n",
       "  </tbody>\n",
       "</table>\n",
       "</div>"
      ],
      "text/plain": [
       "            chart_type  has_num_labels  num_labels_x_mean  num_labels_y_mean  \\\n",
       "0  fit-regression-plot            True              653.0              990.0   \n",
       "1  fit-regression-plot           False                0.0                0.0   \n",
       "2  fit-regression-plot           False                0.0                0.0   \n",
       "3  fit-regression-plot           False                0.0                0.0   \n",
       "4  fit-regression-plot           False                0.0                0.0   \n",
       "\n",
       "   num_labels_x_std  num_labels_y_std  sizes_mean  sizes_std  std_center_x  \\\n",
       "0               0.0               0.0         0.0        0.0           0.0   \n",
       "1               0.0               0.0         0.0        0.0           0.0   \n",
       "2               0.0               0.0         0.0        0.0           0.0   \n",
       "3               0.0               0.0         0.0        0.0           0.0   \n",
       "4               0.0               0.0         0.0        0.0           0.0   \n",
       "\n",
       "   std_centers_y  num_sides_mean  num_sides_std  aspect_ratios_mean  \\\n",
       "0            0.0             0.0            0.0                 0.0   \n",
       "1            0.0             0.0            0.0                 0.0   \n",
       "2            0.0             0.0            0.0                 0.0   \n",
       "3            0.0             0.0            0.0                 0.0   \n",
       "4            0.0             0.0            0.0                 0.0   \n",
       "\n",
       "   aspect_ratios_std  num_glyphs  \\\n",
       "0                0.0           0   \n",
       "1                0.0           0   \n",
       "2                0.0           0   \n",
       "3                0.0           0   \n",
       "4                0.0           0   \n",
       "\n",
       "                                            chart_fp  \n",
       "0  C:\\Users\\grego\\Documents\\GitHub\\DataVizCaption...  \n",
       "1  C:\\Users\\grego\\Documents\\GitHub\\DataVizCaption...  \n",
       "2  C:\\Users\\grego\\Documents\\GitHub\\DataVizCaption...  \n",
       "3  C:\\Users\\grego\\Documents\\GitHub\\DataVizCaption...  \n",
       "4  C:\\Users\\grego\\Documents\\GitHub\\DataVizCaption...  "
      ]
     },
     "execution_count": 20,
     "metadata": {},
     "output_type": "execute_result"
    }
   ],
   "source": [
    "df = pd.read_csv(r\"C:\\Users\\grego\\Documents\\GitHub\\DataVizCaptionGeneration\\volume\\processed\\features.csv\")\n",
    "\n",
    "df.drop(\"Unnamed: 0\", axis=1, inplace=True)\n",
    "\n",
    "df.head()"
   ]
  },
  {
   "cell_type": "code",
   "execution_count": 21,
   "metadata": {},
   "outputs": [],
   "source": [
    "# we don't need this column for the analysis\n",
    "df.drop(\"chart_fp\", axis=1, inplace=True)\n",
    "\n",
    "# remove nulls\n",
    "df.dropna(inplace=True)\n",
    "\n",
    "X = df.drop(\"chart_type\", axis=1)\n",
    "y = df.chart_type\n",
    "\n",
    "X_train, X_test, y_train, y_test = train_test_split(X, y, test_size=0.2, random_state=42)"
   ]
  },
  {
   "cell_type": "code",
   "execution_count": 22,
   "metadata": {},
   "outputs": [
    {
     "name": "stdout",
     "output_type": "stream",
     "text": [
      "Training score:  0.8828190158465388\n",
      "Testing score:  0.7986655546288574\n"
     ]
    }
   ],
   "source": [
    "clf = RandomForestClassifier()\n",
    "clf.fit(X_train, y_train)\n",
    "\n",
    "print(\"Training score: \", clf.score(X_train, y_train))\n",
    "print(\"Testing score: \", clf.score(X_test, y_test))\n"
   ]
  },
  {
   "cell_type": "code",
   "execution_count": 27,
   "metadata": {},
   "outputs": [
    {
     "data": {
      "image/png": "[encoded data removed]",
      "text/plain": [
       "<Figure size 432x288 with 1 Axes>"
      ]
     },
     "metadata": {
      "needs_background": "light"
     },
     "output_type": "display_data"
    }
   ],
   "source": [
    "import matplotlib.pyplot as plt\n",
    "\n",
    "plt.bar(X.columns, clf.feature_importances_, orientation='vertical')\n",
    "plt.xticks(rotation = 90)\n",
    "plt.title(\"Feature importances for chart type classification\")\n",
    "plt.show()"
   ]
  },
  {
   "cell_type": "code",
   "execution_count": null,
   "metadata": {},
   "outputs": [],
   "source": []
  }
 ],
 "metadata": {
  "interpreter": {
   "hash": "489d7475186c415ece05c5b4832d9f6375ea561ff4b19e3fe942e140418b1728"
  },
  "kernelspec": {
   "display_name": "Python 3.10.4 ('MyVenv': venv)",
   "language": "python",
   "name": "python3"
  },
  "language_info": {
   "codemirror_mode": {
    "name": "ipython",
    "version": 3
   },
   "file_extension": ".py",
   "mimetype": "text/x-python",
   "name": "python",
   "nbconvert_exporter": "python",
   "pygments_lexer": "ipython3",
   "version": "3.10.4"
  },
  "orig_nbformat": 4
 },
 "nbformat": 4,
 "nbformat_minor": 2
}
