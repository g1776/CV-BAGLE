{
 "cells": [
  {
   "cell_type": "markdown",
   "metadata": {},
   "source": [
    "# EDA of ReVision Dataset\n",
    "## Gregory Glatzer"
   ]
  },
  {
   "cell_type": "code",
   "execution_count": null,
   "metadata": {},
   "outputs": [],
   "source": [
    "import matplotlib.pyplot as plt\n",
    "import os\n",
    "import numpy as np\n",
    "from PIL import Image\n",
    "import random\n",
    "import urllib.request\n",
    "from IPython.display import display\n",
    "from urllib.error import HTTPError"
   ]
  },
  {
   "cell_type": "code",
   "execution_count": null,
   "metadata": {},
   "outputs": [],
   "source": [
    "# CONSTANTS\n",
    "REVISION = \"../../volume/raw/revision-corpus\"\n",
    "REVISION10 = os.path.join(REVISION, \"vis10cat.txt\")\n",
    "REVISION16 = os.path.join(REVISION, \"vis16cat.txt\")"
   ]
  },
  {
   "cell_type": "markdown",
   "metadata": {},
   "source": [
    "Let's look at some entries in the dataset"
   ]
  },
  {
   "cell_type": "code",
   "execution_count": null,
   "metadata": {},
   "outputs": [],
   "source": [
    "def load_img(url):\n",
    "    try:\n",
    "        data = Image.open(urllib.request.urlopen(url))\n",
    "        return data\n",
    "    except Exception as ex:\n",
    "        print(f\"{type(ex).__name__}: {url}\")\n",
    "\n",
    "with open(REVISION16, 'r', encoding=\"utf-8\") as f:\n",
    "    corpus = [line.split('\\t') for line in f.read().splitlines()]\n",
    "\n",
    "n = 5\n",
    "idxs = random.sample(range(1,len(corpus)), n)\n",
    "for i in range(n):\n",
    "    (chart_type, url) = corpus[idxs[i]]\n",
    "    data = load_img(url)\n",
    "    if data is not None:\n",
    "        print(chart_type)\n",
    "        display(data)"
   ]
  },
  {
   "cell_type": "markdown",
   "metadata": {},
   "source": [
    "It seems that lots of the URLs in the dataset are not active any more. How much of the data is still usable? (ie how many URLs can we still access the charts from?)"
   ]
  },
  {
   "cell_type": "code",
   "execution_count": null,
   "metadata": {},
   "outputs": [],
   "source": [
    "corpus_size = len(corpus)\n",
    "\n",
    "successes = 0\n",
    "for i, (chart_type, url) in enumerate(corpus):\n",
    "    print(i, \"/\", corpus_size)\n",
    "    data = load_img(url)\n",
    "    if data is not None:\n",
    "        successes += 1\n",
    "        \n",
    "print(f\"{successes}/{corpus_size} URLs useable\")\n",
    "print((successes/corpus_size)*100, \"%\")"
   ]
  },
  {
   "cell_type": "code",
   "execution_count": null,
   "metadata": {},
   "outputs": [],
   "source": []
  }
 ],
 "metadata": {
  "interpreter": {
   "hash": "f5b22494dddd7281d65c257e9127ae7613473664ab1a71797d07bd012c9200f0"
  },
  "kernelspec": {
   "display_name": "Python 3.9.7 64-bit ('MyVenv': venv)",
   "language": "python",
   "name": "python3"
  },
  "language_info": {
   "codemirror_mode": {
    "name": "ipython",
    "version": 3
   },
   "file_extension": ".py",
   "mimetype": "text/x-python",
   "name": "python",
   "nbconvert_exporter": "python",
   "pygments_lexer": "ipython3",
   "version": "3.9.7"
  },
  "orig_nbformat": 4
 },
 "nbformat": 4,
 "nbformat_minor": 2
}
