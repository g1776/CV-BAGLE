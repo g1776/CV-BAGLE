{
 "cells": [
  {
   "cell_type": "code",
   "execution_count": 8,
   "metadata": {},
   "outputs": [],
   "source": [
    "import pickle\n",
    "import pandas as pd\n",
    "import glob\n",
    "import os\n",
    "import numpy as np"
   ]
  },
  {
   "cell_type": "code",
   "execution_count": 9,
   "metadata": {},
   "outputs": [],
   "source": [
    "PROCESSED = r\"C:\\Users\\grego\\Documents\\GitHub\\DataVizCaptionGeneration\\volume\\processed\"\n",
    "\n",
    "eval_pickles = glob.glob(os.path.join(PROCESSED, 'eval_*.pkl'))\n",
    "chart_types = [os.path.basename(fp).split('eval_')[-1].split('.')[0] for fp in eval_pickles]\n",
    "\n",
    "dfs = []\n",
    "for i, eval_pickle in enumerate(eval_pickles):\n",
    "    with open(eval_pickle, 'rb') as f:\n",
    "        df = pd.DataFrame(pickle.load(f))\n",
    "        df['chart_type'] = chart_types[i]\n",
    "        dfs.append(df)\n",
    "all_evals = pd.concat(dfs).replace([np.inf, -np.inf], np.nan)"
   ]
  },
  {
   "cell_type": "code",
   "execution_count": 60,
   "metadata": {},
   "outputs": [],
   "source": [
    "all_evals.chart_type = all_evals.chart_type.apply(lambda x: x.replace('-', ' '))"
   ]
  },
  {
   "cell_type": "code",
   "execution_count": 77,
   "metadata": {},
   "outputs": [],
   "source": [
    "glyph_metrics = all_evals[(all_evals.type == \"glyph\") & (all_evals.value != -1)] \\\n",
    "    .groupby([\"chart_type\", \"name\", \"type\"]).value.mean().reset_index()\n",
    "\n",
    "glyph_metrics = glyph_metrics.sort_values(by=['chart_type']).drop(columns=['type']).sort_values(by=['chart_type'])\n",
    "\n",
    "\n",
    "label_metrics = all_evals[(all_evals.type == \"label\")] \\\n",
    "    .groupby([\"chart_type\", \"name\", \"type\"]).value.mean().reset_index()\n",
    "\n",
    "label_metrics = label_metrics.drop(columns=['name', 'type']).sort_values(by=['chart_type'])\n"
   ]
  },
  {
   "cell_type": "code",
   "execution_count": 79,
   "metadata": {},
   "outputs": [
    {
     "name": "stderr",
     "output_type": "stream",
     "text": [
      "C:\\Users\\grego\\AppData\\Local\\Temp\\ipykernel_175092\\4064458746.py:2: FutureWarning: In future versions `DataFrame.to_latex` is expected to utilise the base implementation of `Styler.to_latex` for formatting and rendering. The arguments signature may therefore change. It is recommended instead to use `DataFrame.style.to_latex` which also contains additional functionality.\n",
      "  glyph_metrics.to_latex(os.path.join(PROCESSED, 'glyph_metrics.tex'), index=False)\n",
      "C:\\Users\\grego\\AppData\\Local\\Temp\\ipykernel_175092\\4064458746.py:3: FutureWarning: In future versions `DataFrame.to_latex` is expected to utilise the base implementation of `Styler.to_latex` for formatting and rendering. The arguments signature may therefore change. It is recommended instead to use `DataFrame.style.to_latex` which also contains additional functionality.\n",
      "  label_metrics.to_latex(os.path.join(PROCESSED, 'label_metrics.tex'), index=False)\n"
     ]
    }
   ],
   "source": [
    "with pd.option_context(\"max_colwidth\", 1000):\n",
    "    glyph_metrics.to_latex(os.path.join(PROCESSED, 'glyph_metrics.tex'), index=False)\n",
    "    label_metrics.to_latex(os.path.join(PROCESSED, 'label_metrics.tex'), index=False)"
   ]
  },
  {
   "cell_type": "code",
   "execution_count": null,
   "metadata": {},
   "outputs": [],
   "source": []
  }
 ],
 "metadata": {
  "interpreter": {
   "hash": "489d7475186c415ece05c5b4832d9f6375ea561ff4b19e3fe942e140418b1728"
  },
  "kernelspec": {
   "display_name": "Python 3.10.4 ('MyVenv': venv)",
   "language": "python",
   "name": "python3"
  },
  "language_info": {
   "codemirror_mode": {
    "name": "ipython",
    "version": 3
   },
   "file_extension": ".py",
   "mimetype": "text/x-python",
   "name": "python",
   "nbconvert_exporter": "python",
   "pygments_lexer": "ipython3",
   "version": "3.10.4"
  },
  "orig_nbformat": 4
 },
 "nbformat": 4,
 "nbformat_minor": 2
}
